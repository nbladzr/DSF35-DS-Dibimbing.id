{
  "nbformat": 4,
  "nbformat_minor": 0,
  "metadata": {
    "colab": {
      "provenance": [],
      "authorship_tag": "ABX9TyOv1XGW4Gk+0uGPlnLSe+lR",
      "include_colab_link": true
    },
    "kernelspec": {
      "name": "python3",
      "display_name": "Python 3"
    },
    "language_info": {
      "name": "python"
    }
  },
  "cells": [
    {
      "cell_type": "markdown",
      "metadata": {
        "id": "view-in-github",
        "colab_type": "text"
      },
      "source": [
        "<a href=\"https://colab.research.google.com/github/nbladzr/DSF35-DS-Dibimbing.id/blob/main/Classification_Iris_Dataset.ipynb\" target=\"_parent\"><img src=\"https://colab.research.google.com/assets/colab-badge.svg\" alt=\"Open In Colab\"/></a>"
      ]
    },
    {
      "cell_type": "code",
      "execution_count": null,
      "metadata": {
        "id": "g0u8FVX16eBE"
      },
      "outputs": [],
      "source": [
        "#Import library yang diperlukan\n",
        "import numpy as np\n",
        "from sklearn.model_selection import train_test_split\n",
        "from sklearn.linear_model import LogisticRegression\n",
        "from sklearn.metrics import accuracy_score, classification_report, confusion_matrix\n",
        "import seaborn as sns\n",
        "import matplotlib.pyplot as plt\n",
        "import pandas as pd\n",
        "from sklearn import datasets\n",
        "\n",
        "#Memuat dataset iris dari scikit-learn\n",
        "iris = datasets.load_iris()\n",
        "X = iris.data  # Input (fitur) untuk machine learning\n",
        "y = iris.target  # Output (label/target) yang diinginkan\n",
        "\n",
        "#Mengonversi data fitur dan target menjadi DataFrame\n",
        "df_X = pd.DataFrame(X, columns=iris.feature_names)  # Kolom menggunakan nama fitur\n",
        "df_y = pd.Series(y, name='target') #Kolom target dengan nama 'target'\n",
        "#Gabungkan fitur dan target dalam satu DataFrame\n",
        "df = pd.concat([df_X, df_y], axis=1)\n",
        "\n",
        "#Tampilkan 10 baris pertama\n",
        "print(df.head(10))\n",
        "df.info()\n",
        "print(df['target'].unique())\n",
        "print(df.describe())\n",
        "\n",
        "#Split dataset menjadi training & testing set (80:20)\n",
        "X_train, X_test, y_train, y_test = train_test_split(X, y, test_size=0.2, random_state=42)\n",
        "\n",
        "#Membangun Model Logistic Regression\n",
        "model = LogisticRegression(max_iter=200)  # Menambah iterasi agar model lebih stabil\n",
        "model.fit(X_train, y_train)  # Melatih model\n",
        "\n",
        "# Melakukan Prediksi\n",
        "y_pred = model.predict(X_test)\n",
        "\n",
        "#Evaluasi Model\n",
        "accuracy = accuracy_score(y_test, y_pred)\n",
        "print(f\"Akurasi: {accuracy * 100:.2f}%\")\n",
        "print(\"\\nClassification Report:\\n\", classification_report(y_test, y_pred))\n",
        "\n",
        "#Membuat Confusion Matrix\n",
        "conf_matrix = confusion_matrix(y_test, y_pred)\n",
        "#Visualisasi Confusion Matrix\n",
        "plt.figure(figsize=(6, 4))\n",
        "sns.heatmap(conf_matrix, annot=True, fmt='d', cmap=\"Blues\", xticklabels=iris.target_names, yticklabels=iris.target_names)\n",
        "plt.xlabel('Predicted Label')\n",
        "plt.ylabel('True Label')\n",
        "plt.title('Confusion Matrix')\n",
        "plt.show()\n",
        "\n",
        "#Visualisasi hasil Logistic Regression\n",
        "#Scatter plot fitur pertama & kedua dengan warna sesuai target\n",
        "plt.figure(figsize=(8, 6))\n",
        "sns.scatterplot(x=df[iris.feature_names[0]], y=df[iris.feature_names[1]], hue=df['target'], palette=\"coolwarm\")\n",
        "plt.xlabel(iris.feature_names[0])\n",
        "plt.ylabel(iris.feature_names[1])\n",
        "plt.title('Visualisasi Data Iris')\n",
        "plt.legend(title='Target')\n",
        "plt.show()"
      ]
    }
  ]
}